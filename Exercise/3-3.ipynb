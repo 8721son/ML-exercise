{
  "metadata": {
    "language_info": {
      "codemirror_mode": {
        "name": "python",
        "version": 3
      },
      "file_extension": ".py",
      "mimetype": "text/x-python",
      "name": "python",
      "nbconvert_exporter": "python",
      "pygments_lexer": "ipython3",
      "version": "3.8"
    },
    "kernelspec": {
      "name": "python",
      "display_name": "Python (Pyodide)",
      "language": "python"
    }
  },
  "nbformat_minor": 4,
  "nbformat": 4,
  "cells": [
    {
      "cell_type": "code",
      "source": "import pandas as pd\ndf = pd.read_csv('perch.csv')\nperch_full = df.to_numpy()\nprint(perch_full)",
      "metadata": {
        "trusted": true
      },
      "execution_count": 4,
      "outputs": [
        {
          "name": "stdout",
          "text": "[[ 8.4   2.11  1.41]\n [13.7   3.53  2.  ]\n [15.    3.82  2.43]\n [16.2   4.59  2.63]\n [17.4   4.59  2.94]\n [18.    5.22  3.32]\n [18.7   5.2   3.12]\n [19.    5.64  3.05]\n [19.6   5.14  3.04]\n [20.    5.08  2.77]\n [21.    5.69  3.56]\n [21.    5.92  3.31]\n [21.    5.69  3.67]\n [21.3   6.38  3.53]\n [22.    6.11  3.41]\n [22.    5.64  3.52]\n [22.    6.11  3.52]\n [22.    5.88  3.52]\n [22.    5.52  4.  ]\n [22.5   5.86  3.62]\n [22.5   6.79  3.62]\n [22.7   5.95  3.63]\n [23.    5.22  3.63]\n [23.5   6.28  3.72]\n [24.    7.29  3.72]\n [24.    6.38  3.82]\n [24.6   6.73  4.17]\n [25.    6.44  3.68]\n [25.6   6.56  4.24]\n [26.5   7.17  4.14]\n [27.3   8.32  5.14]\n [27.5   7.17  4.34]\n [27.5   7.05  4.34]\n [27.5   7.28  4.57]\n [28.    7.82  4.2 ]\n [28.7   7.59  4.64]\n [30.    7.62  4.77]\n [32.8  10.03  6.02]\n [34.5  10.26  6.39]\n [35.   11.49  7.8 ]\n [36.5  10.88  6.86]\n [36.   10.61  6.74]\n [37.   10.84  6.26]\n [37.   10.57  6.37]\n [39.   11.14  7.49]\n [39.   11.14  6.  ]\n [39.   12.43  7.35]\n [40.   11.93  7.11]\n [40.   11.73  7.22]\n [40.   12.38  7.46]\n [40.   11.14  6.63]\n [42.   12.8   6.87]\n [43.   11.93  7.28]\n [43.   12.51  7.42]\n [43.5  12.6   8.14]\n [44.   12.49  7.6 ]]\n",
          "output_type": "stream"
        }
      ]
    },
    {
      "cell_type": "code",
      "source": "import numpy as np\nperch_weight = np.array([5.9, 32.0, 40.0, 51.5, 70.0, 100.0, 78.0, 80.0, 85.0, 85.0, 110.0,\n       115.0, 125.0, 130.0, 120.0, 120.0, 130.0, 135.0, 110.0, 130.0,\n       150.0, 145.0, 150.0, 170.0, 225.0, 145.0, 188.0, 180.0, 197.0,\n       218.0, 300.0, 260.0, 265.0, 250.0, 250.0, 300.0, 320.0, 514.0,\n       556.0, 840.0, 685.0, 700.0, 700.0, 690.0, 900.0, 650.0, 820.0,\n       850.0, 900.0, 1015.0, 820.0, 1100.0, 1000.0, 1100.0, 1000.0,\n       1000.0])",
      "metadata": {
        "trusted": true
      },
      "execution_count": 5,
      "outputs": []
    },
    {
      "cell_type": "code",
      "source": "from sklearn.model_selection import train_test_split\ntrain_input, test_input, train_target, test_target = train_test_split(perch_full,perch_weight,random_state=42)",
      "metadata": {
        "trusted": true
      },
      "execution_count": 6,
      "outputs": []
    },
    {
      "cell_type": "code",
      "source": "from sklearn.preprocessing import PolynomialFeatures\npoly = PolynomialFeatures()\npoly.fit([[2,3]])\nprint(poly.transform([[2,3]]))",
      "metadata": {
        "trusted": true
      },
      "execution_count": 8,
      "outputs": [
        {
          "name": "stdout",
          "text": "[[1. 2. 3. 4. 6. 9.]]\n",
          "output_type": "stream"
        }
      ]
    },
    {
      "cell_type": "code",
      "source": "poly = PolynomialFeatures(include_bias=False)\npoly.fit([[2,3]])\nprint(poly.transform([[2,3]]))",
      "metadata": {
        "trusted": true
      },
      "execution_count": 9,
      "outputs": [
        {
          "name": "stdout",
          "text": "[[2. 3. 4. 6. 9.]]\n",
          "output_type": "stream"
        }
      ]
    },
    {
      "cell_type": "code",
      "source": "poly = PolynomialFeatures(include_bias=False)\npoly.fit(train_input)\ntrain_poly = poly.transform(train_input)\nprint(train_poly.shape)",
      "metadata": {
        "trusted": true
      },
      "execution_count": 10,
      "outputs": [
        {
          "name": "stdout",
          "text": "(42, 9)\n",
          "output_type": "stream"
        }
      ]
    },
    {
      "cell_type": "code",
      "source": "test_poly = poly.transform(test_input)",
      "metadata": {
        "trusted": true
      },
      "execution_count": 11,
      "outputs": []
    },
    {
      "cell_type": "code",
      "source": "from sklearn.linear_model import LinearRegression\nlr = LinearRegression()\nlr.fit(train_poly,train_target)\nprint(lr.score(train_poly,train_target))",
      "metadata": {
        "trusted": true
      },
      "execution_count": 12,
      "outputs": [
        {
          "name": "stdout",
          "text": "0.9903183436982125\n",
          "output_type": "stream"
        }
      ]
    },
    {
      "cell_type": "code",
      "source": "print(lr.score(test_poly,test_target))",
      "metadata": {
        "trusted": true
      },
      "execution_count": 13,
      "outputs": [
        {
          "name": "stdout",
          "text": "0.9714559911594322\n",
          "output_type": "stream"
        }
      ]
    },
    {
      "cell_type": "code",
      "source": "poly = PolynomialFeatures(degree=5, include_bias=False)\npoly.fit(train_input)\ntrain_poly = poly.transform(train_input)\ntest_poly = poly.transform(test_input)\nprint(train_poly.shape)",
      "metadata": {
        "trusted": true
      },
      "execution_count": 16,
      "outputs": [
        {
          "name": "stdout",
          "text": "(42, 55)\n",
          "output_type": "stream"
        }
      ]
    },
    {
      "cell_type": "code",
      "source": "lr.fit(train_poly, train_target)\nprint(lr.score(train_poly,train_target))",
      "metadata": {
        "trusted": true
      },
      "execution_count": 18,
      "outputs": [
        {
          "name": "stdout",
          "text": "0.9999999999996361\n",
          "output_type": "stream"
        }
      ]
    },
    {
      "cell_type": "code",
      "source": "print(lr.score(test_poly,test_target))",
      "metadata": {
        "trusted": true
      },
      "execution_count": 20,
      "outputs": [
        {
          "name": "stdout",
          "text": "-144.4058426173241\n",
          "output_type": "stream"
        }
      ]
    },
    {
      "cell_type": "code",
      "source": "# 차수 늘리면 훈련모델 정확도 증가하는 이유",
      "metadata": {},
      "execution_count": null,
      "outputs": []
    },
    {
      "cell_type": "code",
      "source": "from sklearn.preprocessing import StandardScaler\nss = StandardScaler()\nss.fit(train_poly)\ntrain_scaled = ss.transform(train_poly)\ntest_scaled = ss.transform(test_poly)",
      "metadata": {
        "trusted": true
      },
      "execution_count": 21,
      "outputs": []
    },
    {
      "cell_type": "code",
      "source": "from sklearn.linear_model import Ridge\nridge=Ridge()\nridge.fit(train_scaled,train_target)\nprint(ridge.score(train_scaled,train_target))",
      "metadata": {
        "trusted": true
      },
      "execution_count": 22,
      "outputs": [
        {
          "name": "stdout",
          "text": "0.9896101671037344\n",
          "output_type": "stream"
        }
      ]
    },
    {
      "cell_type": "code",
      "source": "print(ridge.score(test_scaled,test_target))",
      "metadata": {
        "trusted": true
      },
      "execution_count": 23,
      "outputs": [
        {
          "name": "stdout",
          "text": "0.9790693977615385\n",
          "output_type": "stream"
        }
      ]
    },
    {
      "cell_type": "code",
      "source": "import matplotlib.pyplot as plt\ntrain_score = []\ntest_score = []\nalpha_list = [0.001, 0.01, 0.1, 1, 10, 100]\nfor alpha in alpha_list:\n    ridge = Ridge(alpha=alpha)\n    ridge.fit(train_scaled, train_target)\n    train_score.append(ridge.score(train_scaled,train_target))\n    test_score.append(ridge.score(test_scaled,test_target))",
      "metadata": {
        "trusted": true
      },
      "execution_count": 24,
      "outputs": []
    },
    {
      "cell_type": "code",
      "source": "plt.plot(np.log10(alpha_list),train_score)\nplt.plot(np.log10(alpha_list),test_score)\nplt.show()",
      "metadata": {
        "trusted": true
      },
      "execution_count": 25,
      "outputs": [
        {
          "output_type": "display_data",
          "data": {
            "text/plain": "<pyolite.display.Image at 0x6c13df8>",
            "image/png": "[encoded data removed]"
          },
          "metadata": {}
        }
      ]
    },
    {
      "cell_type": "code",
      "source": "ridge = Ridge(alpha=0.1)\nridge.fit(train_scaled,train_target)\nprint(ridge.score(train_scaled,train_target))\nprint(ridge.score(test_scaled,test_target))",
      "metadata": {
        "trusted": true
      },
      "execution_count": 26,
      "outputs": [
        {
          "name": "stdout",
          "text": "0.9903815817570367\n0.9827976465386944\n",
          "output_type": "stream"
        }
      ]
    },
    {
      "cell_type": "code",
      "source": "from sklearn.linear_model import Lasso\nlasso = Lasso()\nlasso.fit(train_scaled,train_target)\nprint(lasso.score(train_scaled,train_target))",
      "metadata": {
        "trusted": true
      },
      "execution_count": 29,
      "outputs": [
        {
          "name": "stdout",
          "text": "0.989789897208096\n",
          "output_type": "stream"
        }
      ]
    },
    {
      "cell_type": "code",
      "source": "print(lasso.score(test_scaled,test_target))",
      "metadata": {
        "trusted": true
      },
      "execution_count": 30,
      "outputs": [
        {
          "name": "stdout",
          "text": "0.9800593698421884\n",
          "output_type": "stream"
        }
      ]
    },
    {
      "cell_type": "code",
      "source": "train_score = []\ntest_score = []\nalpha_list = [0.001,0.01,0.1,1,10,100]\nfor alpha in alpha_list:\n    lasso = Lasso(alpha=alpha, max_iter=10000)\n    lasso.fit(train_scaled,train_target)\n    train_score.append(lasso.score(train_scaled,train_target))\n    test_score.append(lasso.score(test_scaled,test_target))",
      "metadata": {
        "trusted": true
      },
      "execution_count": 31,
      "outputs": [
        {
          "name": "stderr",
          "text": "/lib/python3.10/site-packages/sklearn/linear_model/_coordinate_descent.py:648: ConvergenceWarning: Objective did not converge. You might want to increase the number of iterations, check the scale of the features or consider increasing regularisation. Duality gap: 1.878e+04, tolerance: 5.183e+02\n  model = cd_fast.enet_coordinate_descent(\n/lib/python3.10/site-packages/sklearn/linear_model/_coordinate_descent.py:648: ConvergenceWarning: Objective did not converge. You might want to increase the number of iterations, check the scale of the features or consider increasing regularisation. Duality gap: 1.297e+04, tolerance: 5.183e+02\n  model = cd_fast.enet_coordinate_descent(\n",
          "output_type": "stream"
        }
      ]
    },
    {
      "cell_type": "code",
      "source": "plt.plot(np.log10(alpha_list),train_score)\nplt.plot(np.log10(alpha_list),test_score)\nplt.show()",
      "metadata": {
        "trusted": true
      },
      "execution_count": 33,
      "outputs": [
        {
          "output_type": "display_data",
          "data": {
            "text/plain": "<pyolite.display.Image at 0x6a11e50>",
            "image/png": "[encoded data removed]"
          },
          "metadata": {}
        }
      ]
    },
    {
      "cell_type": "code",
      "source": "lasso = Lasso(alpha=10)\nlasso.fit(train_scaled,train_target)\nprint(lasso.score(train_scaled,train_target))\nprint(lasso.score(test_scaled,test_target))",
      "metadata": {
        "trusted": true
      },
      "execution_count": 34,
      "outputs": [
        {
          "name": "stdout",
          "text": "0.9888067471131866\n0.9824470598706695\n",
          "output_type": "stream"
        }
      ]
    },
    {
      "cell_type": "code",
      "source": "",
      "metadata": {},
      "execution_count": null,
      "outputs": []
    }
  ]
}